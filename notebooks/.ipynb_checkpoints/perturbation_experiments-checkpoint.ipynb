{
 "cells": [
  {
   "cell_type": "code",
   "execution_count": 61,
   "metadata": {},
   "outputs": [],
   "source": [
    "import matplotlib.pyplot as plt\n",
    "import pandas as pd\n",
    "from experiments import generate\n",
    "from tqdm import tqdm\n",
    "\n",
    "def biggest_jump(data, col):\n",
    "    x = 1\n",
    "    jump = 0\n",
    "    for i in data[col]:\n",
    "        if i > 1:\n",
    "            return -1\n",
    "        jump = max(jump, abs(x-i))\n",
    "        x = i\n",
    "    return jump\n",
    "\n",
    "def jump_to_zero(data, col, theta=0):\n",
    "    x = data[col][0]\n",
    "    for i, j in enumerate(data[col]):\n",
    "        if j > 1:\n",
    "            return -1\n",
    "        if x - j > theta:\n",
    "            return i\n",
    "        x = j\n",
    "    return -1\n",
    "\n",
    "def run(gr, n=25, k=13):\n",
    "    dfs = []\n",
    "    reslist = []\n",
    "    for i in tqdm(range(reps)):\n",
    "        res = generate.simple_test(n=n, k=k, gr=gr, verbose=False)\n",
    "        reslist.append(res)\n",
    "        df = res[0]\n",
    "        df['inc'] = df['inc'].cumsum()/n\n",
    "        dfs.append(df)\n",
    "    return dfs, reslist\n",
    "\n",
    "\n",
    "not_zero = lambda x: [a for a in x if a != 0]\n",
    "positive = lambda x: [a for a in x if a >= 0]\n",
    "avg_not_zero = lambda x: sum(x)/max(len(not_zero(x), 1))\n",
    "avg_positive = lambda x: sum(positive(x))/max(len(positive(x)), 1)\n",
    "\n",
    "def process(dfs, col, theta=0):\n",
    "    biggest, drop = [], []\n",
    "    missed = 0\n",
    "    for x in dfs:\n",
    "        j = biggest_jump(x, col)\n",
    "        if j > 0:\n",
    "            biggest.append(j)\n",
    "        else:\n",
    "            missed += 1\n",
    "        drop.append(jump_to_zero(x, col, theta))\n",
    "    # print(\"average-biggest-jump\", col, sum(biggest)/len(biggest), missed)\n",
    "    # print(\"drop-to-theta\", col, avg_positive(drop), \"number of drops\", len(positive(drop)))\n",
    "    print(col, sum(biggest)/len(biggest), avg_positive(drop), len(positive(drop)), missed)\n",
    "\n",
    "def analyse(dfs, theta=0):\n",
    "    keys = \"tbleu1-base,tbleu0-base,smatch-base\".split(\",\")\n",
    "    for k in keys:\n",
    "        process(dfs, k, theta)"
   ]
  },
  {
   "cell_type": "code",
   "execution_count": 62,
   "metadata": {},
   "outputs": [],
   "source": [
    "reps = 100"
   ]
  },
  {
   "cell_type": "code",
   "execution_count": 63,
   "metadata": {},
   "outputs": [
    {
     "name": "stdout",
     "output_type": "stream",
     "text": [
      "tbleu1-base 0.19250077705800922 4.580645161290323 31 0\n",
      "tbleu0-base 0.10853161169518648 4.0 3 0\n",
      "smatch-base 0.13664932596894416 7.0 1 67\n"
     ]
    }
   ],
   "source": [
    "gr = generate.random_graph_generator()\n",
    "#normal, normal_res = run(gr)\n",
    "analyse(normal, theta=0.2)"
   ]
  },
  {
   "cell_type": "code",
   "execution_count": 64,
   "metadata": {},
   "outputs": [
    {
     "name": "stdout",
     "output_type": "stream",
     "text": [
      "tbleu1-base 0.1006795451411029 1.0101010101010102 99 0\n",
      "tbleu0-base 0.10061028297633175 1.0101010101010102 99 0\n",
      "smatch-base 0.11919899561929537 1.1764705882352942 34 70\n"
     ]
    }
   ],
   "source": [
    "gr = generate.random_graph_generator(strategy=generate.STRATEGY[\"ADD\"])\n",
    "#add, add_res = run(gr)\n",
    "add_analysis = analyse(add)"
   ]
  },
  {
   "cell_type": "code",
   "execution_count": 65,
   "metadata": {},
   "outputs": [
    {
     "name": "stdout",
     "output_type": "stream",
     "text": [
      "tbleu1-base 0.09780432519386534 1.0 100 0\n",
      "tbleu0-base 0.09780432519386534 1.0 100 0\n",
      "smatch-base 0.11985722645502492 1.12 25 78\n"
     ]
    }
   ],
   "source": [
    "gr = generate.random_graph_generator(strategy=generate.STRATEGY[\"CADD\"])\n",
    "#cadd, cadd_res = run(gr)\n",
    "cadd_analysis = analyse(cadd)"
   ]
  },
  {
   "cell_type": "code",
   "execution_count": 66,
   "metadata": {},
   "outputs": [
    {
     "name": "stdout",
     "output_type": "stream",
     "text": [
      "tbleu1-base 0.26842965694025106 3.9827586206896552 58 0\n",
      "tbleu0-base 0.15857692655681788 8.384615384615385 13 0\n",
      "smatch-base 0.1634615384615385 9.0 1 96\n"
     ]
    }
   ],
   "source": [
    "gr = generate.random_graph_generator(strategy=generate.STRATEGY[\"RELABEL\"])\n",
    "#relabel, relabel_res = run(gr)\n",
    "relabel_analysis = analyse(relabel,theta=0.2)"
   ]
  },
  {
   "cell_type": "code",
   "execution_count": null,
   "metadata": {},
   "outputs": [],
   "source": []
  },
  {
   "cell_type": "code",
   "execution_count": null,
   "metadata": {},
   "outputs": [],
   "source": []
  },
  {
   "cell_type": "code",
   "execution_count": null,
   "metadata": {},
   "outputs": [],
   "source": []
  }
 ],
 "metadata": {
  "kernelspec": {
   "display_name": "Python 3",
   "language": "python",
   "name": "python3"
  },
  "language_info": {
   "codemirror_mode": {
    "name": "ipython",
    "version": 3
   },
   "file_extension": ".py",
   "mimetype": "text/x-python",
   "name": "python",
   "nbconvert_exporter": "python",
   "pygments_lexer": "ipython3",
   "version": "3.7.3"
  }
 },
 "nbformat": 4,
 "nbformat_minor": 2
}
